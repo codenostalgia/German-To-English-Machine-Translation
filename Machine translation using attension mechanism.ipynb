{
 "cells": [
  {
   "cell_type": "markdown",
   "metadata": {},
   "source": [
    "# Consider Using Following Versions for this Project\n",
    "\n",
    "\n",
    "Python = 3.7.1\n",
    "Tensorflow = 2.0.0\n",
    "Keras =  2.0.0\n",
    "\n",
    "\n",
    "Consider Using Following Versions for this Project\n",
    "\n",
    "\n",
    "Python = 3.7.1\n",
    "Tensorflow = 2.0.0\n",
    "Keras =  2.0.0\n",
    "\n",
    "Other Packages\n",
    "-------------------- -----------\n",
    "absl-py              2.1.0\n",
    "anyio                3.5.0\n",
    "argon2-cffi          21.3.0\n",
    "argon2-cffi-bindings 21.2.0\n",
    "astor                0.8.1\n",
    "attrs                22.1.0\n",
    "Babel                2.14.0\n",
    "backcall             0.2.0\n",
    "beautifulsoup4       4.11.1\n",
    "bleach               4.1.0\n",
    "cachetools           4.2.4\n",
    "certifi              2022.12.7\n",
    "cffi                 1.15.1\n",
    "charset-normalizer   3.3.2\n",
    "click                8.1.7\n",
    "colorama             0.4.6\n",
    "cycler               0.11.0\n",
    "debugpy              1.5.1\n",
    "decorator            5.1.1\n",
    "defusedxml           0.7.1\n",
    "entrypoints          0.4\n",
    "Faker                18.13.0\n",
    "fastjsonschema       2.16.2\n",
    "flit_core            3.6.0\n",
    "fonttools            4.38.0\n",
    "gast                 0.2.2\n",
    "google-auth          1.35.0\n",
    "google-auth-oauthlib 0.4.6\n",
    "google-pasta         0.2.0\n",
    "grpcio               1.62.3\n",
    "h5py                 2.10.0\n",
    "idna                 3.8\n",
    "importlib-metadata   6.7.0\n",
    "importlib-resources  5.2.0\n",
    "ipykernel            6.15.2\n",
    "ipython              7.31.1\n",
    "ipython-genutils     0.2.0\n",
    "ipywidgets           7.6.5\n",
    "jedi                 0.18.1\n",
    "Jinja2               3.1.2\n",
    "joblib               1.3.2\n",
    "json5                0.9.6\n",
    "jsonschema           4.17.3\n",
    "jupyter              1.0.0\n",
    "jupyter_client       7.4.9\n",
    "jupyter-console      6.4.4\n",
    "jupyter_core         4.11.2\n",
    "jupyter-server       1.23.4\n",
    "jupyterlab           1.2.6\n",
    "jupyterlab-pygments  0.1.2\n",
    "jupyterlab-server    1.0.7\n",
    "jupyterlab-widgets   1.0.0\n",
    "Keras                2.0.0\n",
    "Keras-Applications   1.0.8\n",
    "Keras-Preprocessing  1.1.2\n",
    "kiwisolver           1.4.5\n",
    "lxml                 4.9.1\n",
    "Markdown             3.4.4\n",
    "MarkupSafe           2.1.5\n",
    "matplotlib           3.5.3\n",
    "matplotlib-inline    0.1.6\n",
    "mistune              0.8.4\n",
    "nbclassic            0.5.2\n",
    "nbclient             0.5.13\n",
    "nbconvert            6.5.4\n",
    "nbformat             5.7.0\n",
    "nest-asyncio         1.5.6\n",
    "nltk                 3.8.1\n",
    "notebook             6.5.2\n",
    "notebook_shim        0.2.2\n",
    "numpy                1.19.5\n",
    "oauthlib             3.2.2\n",
    "opt-einsum           3.3.0\n",
    "packaging            22.0\n",
    "pandocfilters        1.5.0\n",
    "parso                0.8.3\n",
    "pickleshare          0.7.5\n",
    "Pillow               9.5.0\n",
    "pip                  22.3.1\n",
    "pkgutil_resolve_name 1.3.10\n",
    "ply                  3.11\n",
    "prometheus-client    0.14.1\n",
    "prompt-toolkit       3.0.36\n",
    "protobuf             3.20.3\n",
    "psutil               5.9.0\n",
    "pyasn1               0.5.1\n",
    "pyasn1-modules       0.3.0\n",
    "pycparser            2.21\n",
    "pydot                2.0.0\n",
    "Pygments             2.11.2\n",
    "pyparsing            3.1.4\n",
    "PyQt5                5.15.7\n",
    "PyQt5-sip            12.11.0\n",
    "pyrsistent           0.18.0\n",
    "python-dateutil      2.8.2\n",
    "pytz                 2024.2\n",
    "pywin32              305.1\n",
    "pywinpty             2.0.10\n",
    "PyYAML               6.0.1\n",
    "pyzmq                23.2.0\n",
    "qtconsole            5.4.0\n",
    "QtPy                 2.2.0\n",
    "regex                2024.4.16\n",
    "requests             2.31.0\n",
    "requests-oauthlib    2.0.0\n",
    "rsa                  4.9\n",
    "scikit-learn         1.0.2\n",
    "scipy                1.7.3\n",
    "Send2Trash           1.8.0\n",
    "setuptools           65.6.3\n",
    "sip                  6.6.2\n",
    "six                  1.16.0\n",
    "sniffio              1.2.0\n",
    "soupsieve            2.3.2.post1\n",
    "tensorboard          2.0.2\n",
    "tensorflow           2.0.0\n",
    "tensorflow-estimator 2.0.1\n",
    "termcolor            2.3.0\n",
    "terminado            0.17.1\n",
    "threadpoolctl        3.1.0\n",
    "tinycss2             1.2.1\n",
    "toml                 0.10.2\n",
    "tornado              6.2\n",
    "tqdm                 4.66.5\n",
    "traitlets            5.7.1\n",
    "typing_extensions    4.7.1\n",
    "urllib3              2.0.7\n",
    "wcwidth              0.2.5\n",
    "webencodings         0.5.1\n",
    "websocket-client     0.58.0\n",
    "Werkzeug             2.2.3\n",
    "wheel                0.38.4\n",
    "widgetsnbextension   3.5.2\n",
    "wincertstore         0.2\n",
    "wrapt                1.16.0\n",
    "zipp                 3.15.0\n",
    "\n"
   ]
  },
  {
   "cell_type": "code",
   "execution_count": 1,
   "metadata": {},
   "outputs": [
    {
     "name": "stderr",
     "output_type": "stream",
     "text": [
      "Using TensorFlow backend.\n"
     ]
    }
   ],
   "source": [
    "import tensorflow as tf\n",
    "from pickle import load\n",
    "import keras\n",
    "from numpy import array\n",
    "from tensorflow.keras.preprocessing.text import Tokenizer\n",
    "from keras.preprocessing.sequence import pad_sequences\n",
    "from tensorflow.keras.utils import to_categorical\n",
    "# from keras.utils.vis_utils import plot_model\n",
    "from tensorflow.keras.models import Sequential, save_model\n",
    "from tensorflow.keras.layers import LSTM\n",
    "from tensorflow.keras.layers import Dense\n",
    "from tensorflow.keras.layers import Embedding\n",
    "from tensorflow.keras.layers import RepeatVector\n",
    "from tensorflow.keras.layers import TimeDistributed\n",
    "from tensorflow.keras.callbacks import ModelCheckpoint\n",
    "from tensorflow.keras.models import load_model\n",
    "from random import *\n",
    "import numpy as np\n",
    "from numpy import argmax\n",
    "import pydot\n",
    "import matplotlib.pyplot as plt\n",
    "from sklearn.preprocessing import OneHotEncoder"
   ]
  },
  {
   "cell_type": "code",
   "execution_count": 2,
   "metadata": {},
   "outputs": [],
   "source": [
    "from tensorflow.keras.layers import Bidirectional, Concatenate, Permute, Dot, Input, LSTM, Multiply\n",
    "from tensorflow.keras.layers import RepeatVector, Dense, Activation, Lambda\n",
    "from tensorflow.keras.optimizers import Adam\n",
    "from tensorflow.keras.utils import to_categorical\n",
    "from tensorflow.keras.models import load_model, Model\n",
    "import tensorflow.keras.backend as K\n",
    "import numpy as np\n",
    "from faker import Faker\n",
    "import random\n",
    "from tqdm import tqdm\n",
    "from babel.dates import format_date\n",
    "import matplotlib.pyplot as plt\n",
    "import nltk\n",
    "from nltk.translate.bleu_score import sentence_bleu\n",
    "\n",
    "%matplotlib inline"
   ]
  },
  {
   "cell_type": "code",
   "execution_count": 3,
   "metadata": {},
   "outputs": [],
   "source": [
    "# Load Data\n",
    "def load_clean_sentences(filename):\n",
    "    return load(open(filename, 'rb'))\n",
    " \n",
    "# Construct Tokenizer\n",
    "def create_tokenizer(lines):\n",
    "    tokenizer = Tokenizer()\n",
    "    tokenizer.fit_on_texts(lines)\n",
    "    return tokenizer\n",
    " \n",
    "# Find Maximum Length of Sentence from List\n",
    "def max_length(lines):\n",
    "    return max(len(line.split()) for line in lines)\n",
    " \n",
    "# Map Word to dictionary Index, and Post Padding\n",
    "def map_to_dictionary_index(tokenizer, length, lines):\n",
    "    \n",
    "    # map to dictionary index\n",
    "    X = tokenizer.texts_to_sequences(lines)\n",
    "    \n",
    "    # pad sequences with 0 values\n",
    "    X = pad_sequences(X, maxlen=length, padding='post')\n",
    "    return X\n",
    "\n",
    "# Transorm sequence of index to Onehot\n",
    "def map_to_one_hot_encoding(sequences, vocab_size):\n",
    "    \n",
    "    ylist = list()\n",
    "    for sequence in sequences:\n",
    "        encoded = to_categorical(sequence, num_classes=vocab_size)\n",
    "        ylist.append(encoded)\n",
    "    y = array(ylist)\n",
    "    y = y.reshape(sequences.shape[0], sequences.shape[1], vocab_size)\n",
    "    return y\n",
    "\n",
    "# map an integer to a word\n",
    "def word_for_id(integer, tokenizer):\n",
    "    for word, index in tokenizer.word_index.items():\n",
    "        if index == integer:\n",
    "            return word\n",
    "    return None\n",
    "\n",
    "# generate target given source sequence\n",
    "def predict_sequence(model, tokenizer, source):\n",
    "    \n",
    "    sentences= []\n",
    "    \n",
    "    for i in range(len(source)):\n",
    "\n",
    "        prediction = model.predict(source, verbose=0)[i]\n",
    "        integers = [argmax(vector) for vector in prediction]\n",
    "        target = list()\n",
    "        for i in integers:\n",
    "            word = word_for_id(i, tokenizer)\n",
    "            if word is None:\n",
    "                break\n",
    "            target.append(word)\n",
    "        sentence= ' '.join(target)\n",
    "        sentences.append(sentence)\n",
    "        \n",
    "    return sentences\n",
    "\n",
    "\n",
    "# Softmax activation function.\n",
    "def softmax(x, axis=1):\n",
    "    \n",
    "\n",
    "    ndim = K.ndim(x)\n",
    "    if ndim == 2:\n",
    "        return K.softmax(x)\n",
    "    elif ndim > 2:\n",
    "        e = K.exp(x - K.max(x, axis=axis, keepdims=True))\n",
    "        s = K.sum(e, axis=axis, keepdims=True)\n",
    "        return e / s\n",
    "    else:\n",
    "        raise ValueError('Cannot apply softmax to a tensor that is 1D')\n",
    "        \n",
    "def find_bleu_score(reference, candidate):\n",
    "    \n",
    "    l = len(reference[0])\n",
    "    score=0\n",
    "    \n",
    "    for i in range(1, min(l+1, 3)):\n",
    "        score+= sentence_bleu(reference, candidate, weights=tuple([1 if x==i else 0 for x in range(1,l+1)]))\n",
    "    \n",
    "    score/= min(l, 2)\n",
    "    \n",
    "    return score\n",
    "\n",
    "def one_step_attention(a, s_prev):\n",
    "\n",
    "\n",
    "    s_prev = repeator(s_prev)\n",
    "    concat = concatenator([a,s_prev])\n",
    "    e = densor1(concat)\n",
    "   \n",
    "    energies = densor2(e)\n",
    "   \n",
    "    alphas = activator(energies)\n",
    "    \n",
    "    context = dotor([alphas,a])\n",
    "    \n",
    "    return context\n",
    "\n",
    "def model( src_vocab, tar_vocab, src_timesteps, tar_timesteps, n_a , n_s):\n",
    "    \n",
    "\n",
    "    X = Input(shape=(src_timesteps , src_vocab))\n",
    "    s0 = Input(shape=(n_s,), name='s0')\n",
    "    c0 = Input(shape=(n_s,), name='c0')\n",
    "    s = s0\n",
    "    c = c0\n",
    "\n",
    "    outputs = []\n",
    "\n",
    "    a = Bidirectional(LSTM(units=n_a, return_sequences=True))(X)\n",
    "    \n",
    "    for t in range(tar_timesteps):\n",
    "    \n",
    "        context = one_step_attention(a,s)\n",
    "        s, _, c = post_activation_LSTM_cell(context,initial_state=[s,c])\n",
    "        \n",
    "        out =output_layer(s)\n",
    "    \n",
    "        outputs.append(out)\n",
    "    \n",
    "    model = Model(inputs=[X,s0,c0] , outputs=outputs)\n",
    "    \n",
    "    return model"
   ]
  },
  {
   "cell_type": "code",
   "execution_count": 4,
   "metadata": {},
   "outputs": [],
   "source": [
    "# load datasets\n",
    "\n",
    "# train has 9000 examples and test has 1000 examples\n",
    "train = load_clean_sentences('.\\Train_data.pkl')\n",
    "test = load_clean_sentences('.\\Test_data.pkl')\n",
    "dataset = train +test\n",
    "\n",
    "#Shuffling dataset as the sentences present in test data are larger in size\n",
    "random.Random(10).shuffle(dataset)\n",
    "# shuffle(dataset)\n",
    "dataset = np.array(dataset)\n",
    "\n",
    "# train on 9000 examples\n",
    "train= dataset[:9000,:]\n",
    "\n",
    "#test on remaining  1000 examples\n",
    "test = dataset[9000:,:]"
   ]
  },
  {
   "cell_type": "code",
   "execution_count": 5,
   "metadata": {},
   "outputs": [
    {
     "data": {
      "text/plain": [
       "array(['tom did it', 'tom hat es geschafft'], dtype='<U42')"
      ]
     },
     "execution_count": 5,
     "metadata": {},
     "output_type": "execute_result"
    }
   ],
   "source": [
    "train[0]"
   ]
  },
  {
   "cell_type": "code",
   "execution_count": 6,
   "metadata": {},
   "outputs": [
    {
     "name": "stdout",
     "output_type": "stream",
     "text": [
      "English Vocabulary Size: 2214\n",
      "English Max Length: 5\n",
      "German Vocabulary Size: 3526\n",
      "German Max Length: 9\n",
      "(9000, 9, 3526)\n",
      "(9000, 5, 2214)\n",
      "(1000, 9, 3526)\n",
      "(1000, 5, 2214)\n"
     ]
    }
   ],
   "source": [
    "# prepare english tokenizer\n",
    "eng_tokenizer = create_tokenizer(dataset[:, 0])\n",
    "eng_vocab_size = len(eng_tokenizer.word_index) + 1\n",
    "eng_length = max_length(dataset[:, 0])\n",
    "print('English Vocabulary Size: %d' % eng_vocab_size)\n",
    "print('English Max Length: %d' % (eng_length))\n",
    "\n",
    "# prepare german tokenizer\n",
    "ger_tokenizer = create_tokenizer(dataset[:, 1])\n",
    "ger_vocab_size = len(ger_tokenizer.word_index) + 1\n",
    "ger_length = max_length(dataset[:, 1])\n",
    "print('German Vocabulary Size: %d' % ger_vocab_size)\n",
    "print('German Max Length: %d' % (ger_length))\n",
    "\n",
    "# prepare training data\n",
    "trainX = map_to_dictionary_index(ger_tokenizer, ger_length, train[:, 1])\n",
    "Xoh_train = map_to_one_hot_encoding(trainX, ger_vocab_size)\n",
    "print(Xoh_train.shape)\n",
    "\n",
    "trainY = map_to_dictionary_index(eng_tokenizer, eng_length, train[:, 0])\n",
    "Yoh_train = map_to_one_hot_encoding(trainY, eng_vocab_size)\n",
    "print(Yoh_train.shape)\n",
    "\n",
    "\n",
    "# prepare testing data\n",
    "testX = map_to_dictionary_index(ger_tokenizer, ger_length, test[:, 1])\n",
    "Xoh_test = map_to_one_hot_encoding(testX, ger_vocab_size)\n",
    "print(Xoh_test.shape)\n",
    "\n",
    "testY = map_to_dictionary_index(eng_tokenizer, eng_length, test[:, 0])\n",
    "Yoh_test = map_to_one_hot_encoding(testY, eng_vocab_size)\n",
    "print(Yoh_test.shape)\n"
   ]
  },
  {
   "cell_type": "code",
   "execution_count": 7,
   "metadata": {},
   "outputs": [],
   "source": [
    "# Defined shared layers as global variables\n",
    "repeator = RepeatVector(ger_length)\n",
    "concatenator = Concatenate(axis=-1)\n",
    "densor1 = Dense(10, activation = \"tanh\")\n",
    "densor2 = Dense(1, activation = \"relu\")\n",
    "activator = Activation(softmax, name='attention_weights')\n",
    "dotor = Dot(axes = 1)"
   ]
  },
  {
   "cell_type": "code",
   "execution_count": null,
   "metadata": {},
   "outputs": [],
   "source": []
  },
  {
   "cell_type": "code",
   "execution_count": 8,
   "metadata": {},
   "outputs": [],
   "source": [
    "n_a = 32 # number of units for the pre-attention, bi-directional LSTM's hidden state 'a'\n",
    "n_s = 64 # number of units for the post-attention LSTM's hidden state \"s\"\n",
    "\n",
    "#  post attention LSTM cell.  \n",
    "post_activation_LSTM_cell = LSTM(n_s, return_state = True) # post-attention LSTM \n",
    "output_layer = Dense( eng_vocab_size, activation=softmax )"
   ]
  },
  {
   "cell_type": "code",
   "execution_count": null,
   "metadata": {},
   "outputs": [],
   "source": []
  },
  {
   "cell_type": "code",
   "execution_count": 9,
   "metadata": {},
   "outputs": [],
   "source": [
    "model = model(ger_vocab_size, eng_vocab_size, ger_length, eng_length, 32,64)"
   ]
  },
  {
   "cell_type": "code",
   "execution_count": 10,
   "metadata": {},
   "outputs": [
    {
     "name": "stdout",
     "output_type": "stream",
     "text": [
      "Model: \"model\"\n",
      "__________________________________________________________________________________________________\n",
      "Layer (type)                    Output Shape         Param #     Connected to                     \n",
      "==================================================================================================\n",
      "input_1 (InputLayer)            [(None, 9, 3526)]    0                                            \n",
      "__________________________________________________________________________________________________\n",
      "s0 (InputLayer)                 [(None, 64)]         0                                            \n",
      "__________________________________________________________________________________________________\n",
      "bidirectional (Bidirectional)   (None, 9, 64)        911104      input_1[0][0]                    \n",
      "__________________________________________________________________________________________________\n",
      "repeat_vector (RepeatVector)    (None, 9, 64)        0           s0[0][0]                         \n",
      "                                                                 lstm[0][0]                       \n",
      "                                                                 lstm[1][0]                       \n",
      "                                                                 lstm[2][0]                       \n",
      "                                                                 lstm[3][0]                       \n",
      "__________________________________________________________________________________________________\n",
      "concatenate (Concatenate)       (None, 9, 128)       0           bidirectional[0][0]              \n",
      "                                                                 repeat_vector[0][0]              \n",
      "                                                                 bidirectional[0][0]              \n",
      "                                                                 repeat_vector[1][0]              \n",
      "                                                                 bidirectional[0][0]              \n",
      "                                                                 repeat_vector[2][0]              \n",
      "                                                                 bidirectional[0][0]              \n",
      "                                                                 repeat_vector[3][0]              \n",
      "                                                                 bidirectional[0][0]              \n",
      "                                                                 repeat_vector[4][0]              \n",
      "__________________________________________________________________________________________________\n",
      "dense (Dense)                   (None, 9, 10)        1290        concatenate[0][0]                \n",
      "                                                                 concatenate[1][0]                \n",
      "                                                                 concatenate[2][0]                \n",
      "                                                                 concatenate[3][0]                \n",
      "                                                                 concatenate[4][0]                \n",
      "__________________________________________________________________________________________________\n",
      "dense_1 (Dense)                 (None, 9, 1)         11          dense[0][0]                      \n",
      "                                                                 dense[1][0]                      \n",
      "                                                                 dense[2][0]                      \n",
      "                                                                 dense[3][0]                      \n",
      "                                                                 dense[4][0]                      \n",
      "__________________________________________________________________________________________________\n",
      "attention_weights (Activation)  (None, 9, 1)         0           dense_1[0][0]                    \n",
      "                                                                 dense_1[1][0]                    \n",
      "                                                                 dense_1[2][0]                    \n",
      "                                                                 dense_1[3][0]                    \n",
      "                                                                 dense_1[4][0]                    \n",
      "__________________________________________________________________________________________________\n",
      "dot (Dot)                       (None, 1, 64)        0           attention_weights[0][0]          \n",
      "                                                                 bidirectional[0][0]              \n",
      "                                                                 attention_weights[1][0]          \n",
      "                                                                 bidirectional[0][0]              \n",
      "                                                                 attention_weights[2][0]          \n",
      "                                                                 bidirectional[0][0]              \n",
      "                                                                 attention_weights[3][0]          \n",
      "                                                                 bidirectional[0][0]              \n",
      "                                                                 attention_weights[4][0]          \n",
      "                                                                 bidirectional[0][0]              \n",
      "__________________________________________________________________________________________________\n",
      "c0 (InputLayer)                 [(None, 64)]         0                                            \n",
      "__________________________________________________________________________________________________\n",
      "lstm (LSTM)                     [(None, 64), (None,  33024       dot[0][0]                        \n",
      "                                                                 s0[0][0]                         \n",
      "                                                                 c0[0][0]                         \n",
      "                                                                 dot[1][0]                        \n",
      "                                                                 lstm[0][0]                       \n",
      "                                                                 lstm[0][2]                       \n",
      "                                                                 dot[2][0]                        \n",
      "                                                                 lstm[1][0]                       \n",
      "                                                                 lstm[1][2]                       \n",
      "                                                                 dot[3][0]                        \n",
      "                                                                 lstm[2][0]                       \n",
      "                                                                 lstm[2][2]                       \n",
      "                                                                 dot[4][0]                        \n",
      "                                                                 lstm[3][0]                       \n",
      "                                                                 lstm[3][2]                       \n",
      "__________________________________________________________________________________________________\n",
      "dense_2 (Dense)                 (None, 2214)         143910      lstm[0][0]                       \n",
      "                                                                 lstm[1][0]                       \n",
      "                                                                 lstm[2][0]                       \n",
      "                                                                 lstm[3][0]                       \n",
      "                                                                 lstm[4][0]                       \n",
      "==================================================================================================\n",
      "Total params: 1,089,339\n",
      "Trainable params: 1,089,339\n",
      "Non-trainable params: 0\n",
      "__________________________________________________________________________________________________\n",
      "None\n"
     ]
    }
   ],
   "source": [
    "adam = Adam(lr=0.1)\n",
    "model.compile(optimizer=adam, loss='categorical_crossentropy', metrics=['accuracy'])\n",
    "print(model.summary())"
   ]
  },
  {
   "cell_type": "code",
   "execution_count": 11,
   "metadata": {},
   "outputs": [],
   "source": [
    "s0 = np.zeros((9000, n_s))\n",
    "c0 = np.zeros((9000, n_s))\n",
    "outputs = list(Yoh_train.swapaxes(0,1))"
   ]
  },
  {
   "cell_type": "code",
   "execution_count": 12,
   "metadata": {
    "scrolled": false
   },
   "outputs": [
    {
     "name": "stdout",
     "output_type": "stream",
     "text": [
      "Train on 9000 samples\n",
      "Epoch 1/50\n",
      "9000/9000 [==============================] - 23s 3ms/sample - loss: 20.1675 - dense_2_loss: 5.0569 - dense_2_1_loss: 7.2813 - dense_2_2_loss: 5.8982 - dense_2_3_loss: 1.5900 - dense_2_4_loss: 0.3411 - dense_2_accuracy: 0.0953 - dense_2_1_accuracy: 0.0156 - dense_2_2_accuracy: 0.2933 - dense_2_3_accuracy: 0.8542 - dense_2_4_accuracy: 0.9886\n",
      "Epoch 2/50\n",
      "9000/9000 [==============================] - 13s 1ms/sample - loss: 16.2931 - dense_2_loss: 4.0279 - dense_2_1_loss: 6.2115 - dense_2_2_loss: 4.9105 - dense_2_3_loss: 1.1174 - dense_2_4_loss: 0.0259 - dense_2_accuracy: 0.1556 - dense_2_1_accuracy: 0.0607 - dense_2_2_accuracy: 0.3074 - dense_2_3_accuracy: 0.8641 - dense_2_4_accuracy: 0.9997\n",
      "Epoch 3/50\n",
      "9000/9000 [==============================] - 13s 1ms/sample - loss: 14.6132 - dense_2_loss: 3.1915 - dense_2_1_loss: 5.7942 - dense_2_2_loss: 4.5997 - dense_2_3_loss: 1.0131 - dense_2_4_loss: 0.0146 - dense_2_accuracy: 0.3309 - dense_2_1_accuracy: 0.0814 - dense_2_2_accuracy: 0.3214 - dense_2_3_accuracy: 0.8647 - dense_2_4_accuracy: 0.9996\n",
      "Epoch 4/50\n",
      "9000/9000 [==============================] - 12s 1ms/sample - loss: 13.2904 - dense_2_loss: 2.6954 - dense_2_1_loss: 5.3301 - dense_2_2_loss: 4.3378 - dense_2_3_loss: 0.9160 - dense_2_4_loss: 0.0110 - dense_2_accuracy: 0.4212 - dense_2_1_accuracy: 0.1232 - dense_2_2_accuracy: 0.3397 - dense_2_3_accuracy: 0.8653 - dense_2_4_accuracy: 0.9996\n",
      "Epoch 5/50\n",
      "9000/9000 [==============================] - 13s 1ms/sample - loss: 12.2618 - dense_2_loss: 2.3303 - dense_2_1_loss: 4.9556 - dense_2_2_loss: 4.1203 - dense_2_3_loss: 0.8470 - dense_2_4_loss: 0.0086 - dense_2_accuracy: 0.4896 - dense_2_1_accuracy: 0.1559 - dense_2_2_accuracy: 0.3557 - dense_2_3_accuracy: 0.8657 - dense_2_4_accuracy: 0.9994\n",
      "Epoch 6/50\n",
      "9000/9000 [==============================] - 13s 1ms/sample - loss: 11.5245 - dense_2_loss: 2.0493 - dense_2_1_loss: 4.6983 - dense_2_2_loss: 3.9624 - dense_2_3_loss: 0.8068 - dense_2_4_loss: 0.0077 - dense_2_accuracy: 0.5361 - dense_2_1_accuracy: 0.1833 - dense_2_2_accuracy: 0.3646 - dense_2_3_accuracy: 0.8699 - dense_2_4_accuracy: 0.9994\n",
      "Epoch 7/50\n",
      "9000/9000 [==============================] - 14s 2ms/sample - loss: 10.8475 - dense_2_loss: 1.8392 - dense_2_1_loss: 4.4730 - dense_2_2_loss: 3.7594 - dense_2_3_loss: 0.7691 - dense_2_4_loss: 0.0068 - dense_2_accuracy: 0.5744 - dense_2_1_accuracy: 0.2022 - dense_2_2_accuracy: 0.3856 - dense_2_3_accuracy: 0.8713 - dense_2_4_accuracy: 0.9996\n",
      "Epoch 8/50\n",
      "9000/9000 [==============================] - 14s 2ms/sample - loss: 10.1656 - dense_2_loss: 1.6462 - dense_2_1_loss: 4.2472 - dense_2_2_loss: 3.5425 - dense_2_3_loss: 0.7223 - dense_2_4_loss: 0.0073 - dense_2_accuracy: 0.6109 - dense_2_1_accuracy: 0.2149 - dense_2_2_accuracy: 0.4026 - dense_2_3_accuracy: 0.8744 - dense_2_4_accuracy: 0.9992\n",
      "Epoch 9/50\n",
      "9000/9000 [==============================] - 79s 9ms/sample - loss: 9.4562 - dense_2_loss: 1.5020 - dense_2_1_loss: 3.9731 - dense_2_2_loss: 3.2918 - dense_2_3_loss: 0.6824 - dense_2_4_loss: 0.0069 - dense_2_accuracy: 0.6359 - dense_2_1_accuracy: 0.2407 - dense_2_2_accuracy: 0.4248 - dense_2_3_accuracy: 0.8774 - dense_2_4_accuracy: 0.9994\n",
      "Epoch 10/50\n",
      "9000/9000 [==============================] - 20s 2ms/sample - loss: 8.8531 - dense_2_loss: 1.3866 - dense_2_1_loss: 3.7556 - dense_2_2_loss: 3.0550 - dense_2_3_loss: 0.6479 - dense_2_4_loss: 0.0081 - dense_2_accuracy: 0.6563 - dense_2_1_accuracy: 0.2543 - dense_2_2_accuracy: 0.4453 - dense_2_3_accuracy: 0.8797 - dense_2_4_accuracy: 0.9991\n",
      "Epoch 11/50\n",
      "9000/9000 [==============================] - 15s 2ms/sample - loss: 8.2250 - dense_2_loss: 1.2967 - dense_2_1_loss: 3.4977 - dense_2_2_loss: 2.8106 - dense_2_3_loss: 0.6115 - dense_2_4_loss: 0.0086 - dense_2_accuracy: 0.6738 - dense_2_1_accuracy: 0.2862 - dense_2_2_accuracy: 0.4664 - dense_2_3_accuracy: 0.8818 - dense_2_4_accuracy: 0.9992\n",
      "Epoch 12/50\n",
      "9000/9000 [==============================] - 14s 2ms/sample - loss: 7.6215 - dense_2_loss: 1.2071 - dense_2_1_loss: 3.2532 - dense_2_2_loss: 2.5769 - dense_2_3_loss: 0.5760 - dense_2_4_loss: 0.0083 - dense_2_accuracy: 0.6936 - dense_2_1_accuracy: 0.3102 - dense_2_2_accuracy: 0.4893 - dense_2_3_accuracy: 0.8869 - dense_2_4_accuracy: 0.9988\n",
      "Epoch 13/50\n",
      "9000/9000 [==============================] - 14s 2ms/sample - loss: 7.0732 - dense_2_loss: 1.1167 - dense_2_1_loss: 3.0265 - dense_2_2_loss: 2.3871 - dense_2_3_loss: 0.5357 - dense_2_4_loss: 0.0072 - dense_2_accuracy: 0.7106 - dense_2_1_accuracy: 0.3446 - dense_2_2_accuracy: 0.5134 - dense_2_3_accuracy: 0.8887 - dense_2_4_accuracy: 0.9992\n",
      "Epoch 14/50\n",
      "9000/9000 [==============================] - 14s 2ms/sample - loss: 6.6562 - dense_2_loss: 1.0737 - dense_2_1_loss: 2.8191 - dense_2_2_loss: 2.2409 - dense_2_3_loss: 0.5136 - dense_2_4_loss: 0.0089 - dense_2_accuracy: 0.7221 - dense_2_1_accuracy: 0.3753 - dense_2_2_accuracy: 0.5342 - dense_2_3_accuracy: 0.8910 - dense_2_4_accuracy: 0.9987\n",
      "Epoch 15/50\n",
      "9000/9000 [==============================] - 14s 2ms/sample - loss: 6.1986 - dense_2_loss: 1.0000 - dense_2_1_loss: 2.6167 - dense_2_2_loss: 2.0867 - dense_2_3_loss: 0.4881 - dense_2_4_loss: 0.0071 - dense_2_accuracy: 0.7361 - dense_2_1_accuracy: 0.4049 - dense_2_2_accuracy: 0.5486 - dense_2_3_accuracy: 0.8953 - dense_2_4_accuracy: 0.9987\n",
      "Epoch 16/50\n",
      "9000/9000 [==============================] - 14s 2ms/sample - loss: 5.9038 - dense_2_loss: 0.9682 - dense_2_1_loss: 2.4787 - dense_2_2_loss: 1.9677 - dense_2_3_loss: 0.4810 - dense_2_4_loss: 0.0081 - dense_2_accuracy: 0.7381 - dense_2_1_accuracy: 0.4211 - dense_2_2_accuracy: 0.5672 - dense_2_3_accuracy: 0.8949 - dense_2_4_accuracy: 0.9984\n",
      "Epoch 17/50\n",
      "9000/9000 [==============================] - 14s 2ms/sample - loss: 5.6387 - dense_2_loss: 0.9373 - dense_2_1_loss: 2.3635 - dense_2_2_loss: 1.8875 - dense_2_3_loss: 0.4421 - dense_2_4_loss: 0.0083 - dense_2_accuracy: 0.7502 - dense_2_1_accuracy: 0.4402 - dense_2_2_accuracy: 0.5758 - dense_2_3_accuracy: 0.9012 - dense_2_4_accuracy: 0.9982\n",
      "Epoch 18/50\n",
      "9000/9000 [==============================] - 14s 2ms/sample - loss: 5.2657 - dense_2_loss: 0.8749 - dense_2_1_loss: 2.1980 - dense_2_2_loss: 1.7553 - dense_2_3_loss: 0.4246 - dense_2_4_loss: 0.0129 - dense_2_accuracy: 0.7629 - dense_2_1_accuracy: 0.4733 - dense_2_2_accuracy: 0.5951 - dense_2_3_accuracy: 0.9040 - dense_2_4_accuracy: 0.9970\n",
      "Epoch 19/50\n",
      "9000/9000 [==============================] - 14s 2ms/sample - loss: 4.9198 - dense_2_loss: 0.8262 - dense_2_1_loss: 2.0469 - dense_2_2_loss: 1.6295 - dense_2_3_loss: 0.4070 - dense_2_4_loss: 0.0101 - dense_2_accuracy: 0.7764 - dense_2_1_accuracy: 0.5033 - dense_2_2_accuracy: 0.6111 - dense_2_3_accuracy: 0.9082 - dense_2_4_accuracy: 0.9980\n",
      "Epoch 20/50\n",
      "9000/9000 [==============================] - 14s 2ms/sample - loss: 4.6691 - dense_2_loss: 0.7883 - dense_2_1_loss: 1.9367 - dense_2_2_loss: 1.5570 - dense_2_3_loss: 0.3782 - dense_2_4_loss: 0.0088 - dense_2_accuracy: 0.7812 - dense_2_1_accuracy: 0.5210 - dense_2_2_accuracy: 0.6240 - dense_2_3_accuracy: 0.9120 - dense_2_4_accuracy: 0.9978\n",
      "Epoch 21/50\n",
      "9000/9000 [==============================] - 14s 2ms/sample - loss: 4.3920 - dense_2_loss: 0.7504 - dense_2_1_loss: 1.8250 - dense_2_2_loss: 1.4555 - dense_2_3_loss: 0.3541 - dense_2_4_loss: 0.0070 - dense_2_accuracy: 0.7917 - dense_2_1_accuracy: 0.5488 - dense_2_2_accuracy: 0.6494 - dense_2_3_accuracy: 0.9147 - dense_2_4_accuracy: 0.9983\n",
      "Epoch 22/50\n",
      "9000/9000 [==============================] - 14s 2ms/sample - loss: 4.1805 - dense_2_loss: 0.7326 - dense_2_1_loss: 1.7132 - dense_2_2_loss: 1.3888 - dense_2_3_loss: 0.3407 - dense_2_4_loss: 0.0052 - dense_2_accuracy: 0.7960 - dense_2_1_accuracy: 0.5666 - dense_2_2_accuracy: 0.6566 - dense_2_3_accuracy: 0.9164 - dense_2_4_accuracy: 0.9987\n",
      "Epoch 23/50\n",
      "9000/9000 [==============================] - 14s 2ms/sample - loss: 4.0191 - dense_2_loss: 0.7101 - dense_2_1_loss: 1.6427 - dense_2_2_loss: 1.3204 - dense_2_3_loss: 0.3393 - dense_2_4_loss: 0.0067 - dense_2_accuracy: 0.8002 - dense_2_1_accuracy: 0.5843 - dense_2_2_accuracy: 0.6757 - dense_2_3_accuracy: 0.9162 - dense_2_4_accuracy: 0.9982\n",
      "Epoch 24/50\n",
      "9000/9000 [==============================] - 14s 2ms/sample - loss: 3.8336 - dense_2_loss: 0.6766 - dense_2_1_loss: 1.5730 - dense_2_2_loss: 1.2656 - dense_2_3_loss: 0.3113 - dense_2_4_loss: 0.0071 - dense_2_accuracy: 0.8082 - dense_2_1_accuracy: 0.5990 - dense_2_2_accuracy: 0.6809 - dense_2_3_accuracy: 0.9233 - dense_2_4_accuracy: 0.9984\n",
      "Epoch 25/50\n",
      "9000/9000 [==============================] - 13s 1ms/sample - loss: 3.7072 - dense_2_loss: 0.6764 - dense_2_1_loss: 1.5154 - dense_2_2_loss: 1.2121 - dense_2_3_loss: 0.2973 - dense_2_4_loss: 0.0059 - dense_2_accuracy: 0.8096 - dense_2_1_accuracy: 0.6112 - dense_2_2_accuracy: 0.6901 - dense_2_3_accuracy: 0.9249 - dense_2_4_accuracy: 0.9987\n",
      "Epoch 26/50\n",
      "9000/9000 [==============================] - 13s 1ms/sample - loss: 3.5528 - dense_2_loss: 0.6459 - dense_2_1_loss: 1.4467 - dense_2_2_loss: 1.1600 - dense_2_3_loss: 0.2950 - dense_2_4_loss: 0.0052 - dense_2_accuracy: 0.8093 - dense_2_1_accuracy: 0.6221 - dense_2_2_accuracy: 0.7038 - dense_2_3_accuracy: 0.9250 - dense_2_4_accuracy: 0.9988\n",
      "Epoch 27/50\n",
      "9000/9000 [==============================] - 14s 2ms/sample - loss: 3.4755 - dense_2_loss: 0.6318 - dense_2_1_loss: 1.4153 - dense_2_2_loss: 1.1359 - dense_2_3_loss: 0.2865 - dense_2_4_loss: 0.0061 - dense_2_accuracy: 0.8161 - dense_2_1_accuracy: 0.6352 - dense_2_2_accuracy: 0.7119 - dense_2_3_accuracy: 0.9277 - dense_2_4_accuracy: 0.9982\n",
      "Epoch 28/50\n",
      "9000/9000 [==============================] - 14s 2ms/sample - loss: 3.3712 - dense_2_loss: 0.6112 - dense_2_1_loss: 1.3559 - dense_2_2_loss: 1.1142 - dense_2_3_loss: 0.2838 - dense_2_4_loss: 0.0062 - dense_2_accuracy: 0.8256 - dense_2_1_accuracy: 0.6458 - dense_2_2_accuracy: 0.7116 - dense_2_3_accuracy: 0.9278 - dense_2_4_accuracy: 0.9981\n",
      "Epoch 29/50\n",
      "9000/9000 [==============================] - 14s 2ms/sample - loss: 3.1750 - dense_2_loss: 0.5995 - dense_2_1_loss: 1.2794 - dense_2_2_loss: 1.0280 - dense_2_3_loss: 0.2638 - dense_2_4_loss: 0.0043 - dense_2_accuracy: 0.8247 - dense_2_1_accuracy: 0.6658 - dense_2_2_accuracy: 0.7381 - dense_2_3_accuracy: 0.9336 - dense_2_4_accuracy: 0.9987\n",
      "Epoch 30/50\n",
      "9000/9000 [==============================] - 14s 2ms/sample - loss: 3.0334 - dense_2_loss: 0.5667 - dense_2_1_loss: 1.2323 - dense_2_2_loss: 0.9759 - dense_2_3_loss: 0.2533 - dense_2_4_loss: 0.0053 - dense_2_accuracy: 0.8349 - dense_2_1_accuracy: 0.6784 - dense_2_2_accuracy: 0.7436 - dense_2_3_accuracy: 0.9356 - dense_2_4_accuracy: 0.9986\n",
      "Epoch 31/50\n",
      "9000/9000 [==============================] - 14s 2ms/sample - loss: 2.9815 - dense_2_loss: 0.5557 - dense_2_1_loss: 1.2023 - dense_2_2_loss: 0.9679 - dense_2_3_loss: 0.2506 - dense_2_4_loss: 0.0050 - dense_2_accuracy: 0.8367 - dense_2_1_accuracy: 0.6832 - dense_2_2_accuracy: 0.7497 - dense_2_3_accuracy: 0.9324 - dense_2_4_accuracy: 0.9988\n",
      "Epoch 32/50\n",
      "9000/9000 [==============================] - 14s 2ms/sample - loss: 2.9014 - dense_2_loss: 0.5483 - dense_2_1_loss: 1.1778 - dense_2_2_loss: 0.9313 - dense_2_3_loss: 0.2395 - dense_2_4_loss: 0.0046 - dense_2_accuracy: 0.8396 - dense_2_1_accuracy: 0.6927 - dense_2_2_accuracy: 0.7531 - dense_2_3_accuracy: 0.9383 - dense_2_4_accuracy: 0.9987\n",
      "Epoch 33/50\n",
      "9000/9000 [==============================] - 14s 2ms/sample - loss: 2.7807 - dense_2_loss: 0.5369 - dense_2_1_loss: 1.1115 - dense_2_2_loss: 0.8977 - dense_2_3_loss: 0.2286 - dense_2_4_loss: 0.0059 - dense_2_accuracy: 0.8424 - dense_2_1_accuracy: 0.7086 - dense_2_2_accuracy: 0.7642 - dense_2_3_accuracy: 0.9394 - dense_2_4_accuracy: 0.9982\n",
      "Epoch 34/50\n",
      "9000/9000 [==============================] - 14s 2ms/sample - loss: 2.8146 - dense_2_loss: 0.5346 - dense_2_1_loss: 1.1287 - dense_2_2_loss: 0.9103 - dense_2_3_loss: 0.2352 - dense_2_4_loss: 0.0058 - dense_2_accuracy: 0.8390 - dense_2_1_accuracy: 0.6986 - dense_2_2_accuracy: 0.7584 - dense_2_3_accuracy: 0.9388 - dense_2_4_accuracy: 0.9986\n",
      "Epoch 35/50\n",
      "9000/9000 [==============================] - 14s 2ms/sample - loss: 2.6857 - dense_2_loss: 0.5209 - dense_2_1_loss: 1.0848 - dense_2_2_loss: 0.8529 - dense_2_3_loss: 0.2223 - dense_2_4_loss: 0.0048 - dense_2_accuracy: 0.8459 - dense_2_1_accuracy: 0.7113 - dense_2_2_accuracy: 0.7741 - dense_2_3_accuracy: 0.9407 - dense_2_4_accuracy: 0.9986\n",
      "Epoch 36/50\n",
      "9000/9000 [==============================] - 14s 2ms/sample - loss: 2.6039 - dense_2_loss: 0.5022 - dense_2_1_loss: 1.0604 - dense_2_2_loss: 0.8237 - dense_2_3_loss: 0.2113 - dense_2_4_loss: 0.0062 - dense_2_accuracy: 0.8542 - dense_2_1_accuracy: 0.7144 - dense_2_2_accuracy: 0.7832 - dense_2_3_accuracy: 0.9438 - dense_2_4_accuracy: 0.9981\n",
      "Epoch 37/50\n",
      "9000/9000 [==============================] - 14s 2ms/sample - loss: 2.5865 - dense_2_loss: 0.5077 - dense_2_1_loss: 1.0474 - dense_2_2_loss: 0.8146 - dense_2_3_loss: 0.2126 - dense_2_4_loss: 0.0042 - dense_2_accuracy: 0.8441 - dense_2_1_accuracy: 0.7181 - dense_2_2_accuracy: 0.7796 - dense_2_3_accuracy: 0.9430 - dense_2_4_accuracy: 0.9987\n",
      "Epoch 38/50\n",
      "9000/9000 [==============================] - 14s 2ms/sample - loss: 2.5904 - dense_2_loss: 0.5088 - dense_2_1_loss: 1.0568 - dense_2_2_loss: 0.8109 - dense_2_3_loss: 0.2076 - dense_2_4_loss: 0.0062 - dense_2_accuracy: 0.8483 - dense_2_1_accuracy: 0.7156 - dense_2_2_accuracy: 0.7819 - dense_2_3_accuracy: 0.9449 - dense_2_4_accuracy: 0.9984\n",
      "Epoch 39/50\n",
      "9000/9000 [==============================] - 14s 2ms/sample - loss: 2.5004 - dense_2_loss: 0.4845 - dense_2_1_loss: 1.0166 - dense_2_2_loss: 0.7848 - dense_2_3_loss: 0.2103 - dense_2_4_loss: 0.0043 - dense_2_accuracy: 0.8489 - dense_2_1_accuracy: 0.7247 - dense_2_2_accuracy: 0.7858 - dense_2_3_accuracy: 0.9446 - dense_2_4_accuracy: 0.9987\n",
      "Epoch 40/50\n",
      "9000/9000 [==============================] - 14s 2ms/sample - loss: 2.5860 - dense_2_loss: 0.4976 - dense_2_1_loss: 1.0268 - dense_2_2_loss: 0.8268 - dense_2_3_loss: 0.2282 - dense_2_4_loss: 0.0067 - dense_2_accuracy: 0.8472 - dense_2_1_accuracy: 0.7201 - dense_2_2_accuracy: 0.7742 - dense_2_3_accuracy: 0.9383 - dense_2_4_accuracy: 0.9982\n",
      "Epoch 41/50\n",
      "9000/9000 [==============================] - 14s 2ms/sample - loss: 2.4380 - dense_2_loss: 0.4840 - dense_2_1_loss: 0.9915 - dense_2_2_loss: 0.7572 - dense_2_3_loss: 0.2005 - dense_2_4_loss: 0.0048 - dense_2_accuracy: 0.8498 - dense_2_1_accuracy: 0.7296 - dense_2_2_accuracy: 0.7938 - dense_2_3_accuracy: 0.9466 - dense_2_4_accuracy: 0.9989\n",
      "Epoch 42/50\n",
      "9000/9000 [==============================] - 14s 2ms/sample - loss: 2.4000 - dense_2_loss: 0.4802 - dense_2_1_loss: 0.9767 - dense_2_2_loss: 0.7436 - dense_2_3_loss: 0.1947 - dense_2_4_loss: 0.0048 - dense_2_accuracy: 0.8533 - dense_2_1_accuracy: 0.7326 - dense_2_2_accuracy: 0.7987 - dense_2_3_accuracy: 0.9462 - dense_2_4_accuracy: 0.9988\n",
      "Epoch 43/50\n",
      "9000/9000 [==============================] - 14s 2ms/sample - loss: 2.3141 - dense_2_loss: 0.4718 - dense_2_1_loss: 0.9220 - dense_2_2_loss: 0.7296 - dense_2_3_loss: 0.1851 - dense_2_4_loss: 0.0057 - dense_2_accuracy: 0.8544 - dense_2_1_accuracy: 0.7472 - dense_2_2_accuracy: 0.7996 - dense_2_3_accuracy: 0.9483 - dense_2_4_accuracy: 0.9983\n",
      "Epoch 44/50\n",
      "9000/9000 [==============================] - 14s 2ms/sample - loss: 2.2374 - dense_2_loss: 0.4510 - dense_2_1_loss: 0.9074 - dense_2_2_loss: 0.6989 - dense_2_3_loss: 0.1763 - dense_2_4_loss: 0.0037 - dense_2_accuracy: 0.8592 - dense_2_1_accuracy: 0.7471 - dense_2_2_accuracy: 0.8068 - dense_2_3_accuracy: 0.9506 - dense_2_4_accuracy: 0.9990\n",
      "Epoch 45/50\n",
      "9000/9000 [==============================] - 14s 2ms/sample - loss: 2.1730 - dense_2_loss: 0.4435 - dense_2_1_loss: 0.8858 - dense_2_2_loss: 0.6687 - dense_2_3_loss: 0.1699 - dense_2_4_loss: 0.0051 - dense_2_accuracy: 0.8616 - dense_2_1_accuracy: 0.7548 - dense_2_2_accuracy: 0.8171 - dense_2_3_accuracy: 0.9549 - dense_2_4_accuracy: 0.9984\n",
      "Epoch 46/50\n",
      "9000/9000 [==============================] - 14s 2ms/sample - loss: 2.1467 - dense_2_loss: 0.4377 - dense_2_1_loss: 0.8587 - dense_2_2_loss: 0.6659 - dense_2_3_loss: 0.1803 - dense_2_4_loss: 0.0041 - dense_2_accuracy: 0.8621 - dense_2_1_accuracy: 0.7603 - dense_2_2_accuracy: 0.8072 - dense_2_3_accuracy: 0.9536 - dense_2_4_accuracy: 0.9987\n",
      "Epoch 47/50\n"
     ]
    },
    {
     "name": "stdout",
     "output_type": "stream",
     "text": [
      "9000/9000 [==============================] - 14s 2ms/sample - loss: 2.1064 - dense_2_loss: 0.4283 - dense_2_1_loss: 0.8494 - dense_2_2_loss: 0.6519 - dense_2_3_loss: 0.1725 - dense_2_4_loss: 0.0043 - dense_2_accuracy: 0.8651 - dense_2_1_accuracy: 0.7618 - dense_2_2_accuracy: 0.8172 - dense_2_3_accuracy: 0.9533 - dense_2_4_accuracy: 0.9987\n",
      "Epoch 48/50\n",
      "9000/9000 [==============================] - 14s 2ms/sample - loss: 2.0983 - dense_2_loss: 0.4255 - dense_2_1_loss: 0.8388 - dense_2_2_loss: 0.6624 - dense_2_3_loss: 0.1680 - dense_2_4_loss: 0.0036 - dense_2_accuracy: 0.8674 - dense_2_1_accuracy: 0.7691 - dense_2_2_accuracy: 0.8176 - dense_2_3_accuracy: 0.9524 - dense_2_4_accuracy: 0.9987\n",
      "Epoch 49/50\n",
      "9000/9000 [==============================] - 14s 2ms/sample - loss: 2.1393 - dense_2_loss: 0.4282 - dense_2_1_loss: 0.8538 - dense_2_2_loss: 0.6713 - dense_2_3_loss: 0.1803 - dense_2_4_loss: 0.0057 - dense_2_accuracy: 0.8688 - dense_2_1_accuracy: 0.7624 - dense_2_2_accuracy: 0.8122 - dense_2_3_accuracy: 0.9513 - dense_2_4_accuracy: 0.9983\n",
      "Epoch 50/50\n",
      "9000/9000 [==============================] - 14s 2ms/sample - loss: 2.1381 - dense_2_loss: 0.4229 - dense_2_1_loss: 0.8598 - dense_2_2_loss: 0.6726 - dense_2_3_loss: 0.1785 - dense_2_4_loss: 0.0043 - dense_2_accuracy: 0.8639 - dense_2_1_accuracy: 0.7588 - dense_2_2_accuracy: 0.8093 - dense_2_3_accuracy: 0.9508 - dense_2_4_accuracy: 0.9984\n"
     ]
    }
   ],
   "source": [
    "history = model.fit([Xoh_train, s0, c0], outputs, epochs=50, batch_size=100)"
   ]
  },
  {
   "cell_type": "code",
   "execution_count": 13,
   "metadata": {},
   "outputs": [
    {
     "data": {
      "text/plain": [
       "[<matplotlib.lines.Line2D at 0x24884c404e0>]"
      ]
     },
     "execution_count": 13,
     "metadata": {},
     "output_type": "execute_result"
    },
    {
     "data": {
      "image/png": "[encoded data removed]",
      "text/plain": [
       "<Figure size 640x480 with 1 Axes>"
      ]
     },
     "metadata": {},
     "output_type": "display_data"
    }
   ],
   "source": [
    "#plotting learning curve\n",
    "plt.plot(history.history['loss'])"
   ]
  },
  {
   "cell_type": "code",
   "execution_count": 14,
   "metadata": {},
   "outputs": [],
   "source": [
    "save_model(model, \"./G-E-Translation-model.h5\")"
   ]
  },
  {
   "cell_type": "code",
   "execution_count": null,
   "metadata": {},
   "outputs": [],
   "source": []
  },
  {
   "cell_type": "code",
   "execution_count": null,
   "metadata": {},
   "outputs": [],
   "source": []
  },
  {
   "cell_type": "code",
   "execution_count": null,
   "metadata": {},
   "outputs": [],
   "source": []
  },
  {
   "cell_type": "code",
   "execution_count": 15,
   "metadata": {},
   "outputs": [
    {
     "data": {
      "text/plain": [
       "['loss',\n",
       " 'dense_2_loss',\n",
       " 'dense_2_1_loss',\n",
       " 'dense_2_2_loss',\n",
       " 'dense_2_3_loss',\n",
       " 'dense_2_4_loss',\n",
       " 'dense_2_accuracy',\n",
       " 'dense_2_1_accuracy',\n",
       " 'dense_2_2_accuracy',\n",
       " 'dense_2_3_accuracy',\n",
       " 'dense_2_4_accuracy']"
      ]
     },
     "execution_count": 15,
     "metadata": {},
     "output_type": "execute_result"
    }
   ],
   "source": [
    "model.metrics_names"
   ]
  },
  {
   "cell_type": "code",
   "execution_count": 16,
   "metadata": {
    "scrolled": true
   },
   "outputs": [
    {
     "name": "stdout",
     "output_type": "stream",
     "text": [
      "\r",
      "1000/1 [================================================================================================================================================================================================================================================================================================================================================================================================================================================================================================================================================================================================================================================================================================================================================================================================================================================================================================================================================================================================================================================================================================================================================================================================================================================================================================================================================================================================================================================================================================================================================================================================================================================================================================================================================================================================================================================================================================================================================================================================================================================================================================================================================================================================================================================================================================================================================================================================================================================================================================================================================================================================================================================================================================================================================================================================================================================================================================================================================================================================================================================================================================================================================================================================================================================================================================================================================================================================================================================================================================================================================================================================================================================================================================================================================================================================================================================================================================================================================================================================================================================================================================================================================================================================================================================================================================================================================================================================================================================================================================================================================================================================================================================================================================================================================================================================================================================================================================================================================================================================================================================================================================================================================================================================================================================================================================================================================================================================================================================================================================================================================================================================================================================================================================================================================================================================================================================================================================================================================================================================================================================================================================================================================================================================================================================================================================================================================================================================================================================================================================================================================================================================================================================================================================================================================================================================================================================================================================================================================================================================================================================================================================================================================================================================================================================================================================================================================================================================================================================================================================================================================================================================================================================================================================================================================================================================================================================================================================================================================================================================================================================================================================================================================================================================================================================================================================================================================================================================================================================================================================================================================================================================================================================================================================================================================================================================================================================================================================================================================================================================================================================================================================================================================================================================================================================================================================================================================================================================================================================================================================================================================================================================================================================================================================================================================================================================================================================================================================================================================================================================================================================================================================================================================================================================================================================================================================================================================================================================================================================================================================================================================================================================================================================================================================================================================================================================================================================================================================================================================================================================================================================================================================================================================================================================================================================================================================================================================================================================================================================================================================================================================================================================================================================================================================================================================================================================================================================================================================================================================================================================================================================================================================================================================================================================================================================================================================================================================================================================================================================================================================================================================================================================================================================================================================================================================================================================================================================================================================================================================================================================================================================================================================================================================================================================================================================================================================================================================================================================================================================================================================================================================================================================================================================================================================================================================================================================================================================================================================================================================================================================================================================================================================================================================================================================================================================================================================================================================================================================================================================================================================================================================================================================================================================================================================================================================================================================================================================================================================================================================================================================================================================================================================================================================================================================================================================================================================================================================================================================================================================================================================================================================================================================================================================================================================================================================================================================================================================================================================================================================================================================================================================================================================================================================================================================================================================================================================================================================================================================================================================================================================================================================================================================================================================================================================================================================================================================================================================================================================================================================================================================================================================================================================================================================================================================================================================================================================================================================================================================================================================================================================================================================================================================================================================================================================================================================================================================================================================================================================================================================================================================================================================================================================================================================================================================================================================================================================================================================================================================================================================================================================================================================================================================================================================================================================================================================================================================================================================================================================================================================================================================================================================================================================================================================================================================================================================================================================================================================================================================================================================================================================================================================================================================================================================================================================================================================================================================================================================================================================================================================================================================================================================================================================================================================================================================================================================================================================================================================================================================================================================================================================================================================================================================================================================================================================================================================================================================================================================================================================================================================================================================================================================================================================================================================================================================================================================================================================================================================================================================================================================================================================================================================================================================================================================================================================================================================================================================================================================================================================================================================================================================================================================================================================================================================================================================================================================================================================================================================================================================================================================================================================================================================================================================================================================================================================================================================================================================================================================================================================================================================================================================================================================================================================================================================================================================================================================================================================================================================================================================================================================================================================================================================================================================================================================================================================================================================================================================================================================================================================================================================================================================================================================================================================================================================================================================================================================================================================================================================================================================================================================================================================================================================================================================================================================================================================================================================================================================================================================================================================================================================================================================================================================================================================================================================================================================================================================================================================================================================================================================================================================================================================================================================================================================================================================================================================================================================================================================================================================================================================================================================================================================================================================================================================================================================================================================================================================================================================================================================================================================================================================================================================================================================================================================================================================================================================================================================================================================================================================================================================================================================================================================================================================================================================================================================================================================================================================================================================================================================================================================================================================================================================================================================================================================================================================================================================================================================================================================================================================================================================================================================================================================================================================================================================================================================================================================================================================================================================================================================================================================================================================================================================================================================================================================================================================================================================================================================================================================================================================================================================================================================================================================================================================================================================================================================================================================================================================================================================================================================================================================================================================================================================================================================================================================================================================================================================================================================================================================================================================================================================================================================================================================================================================================================================================================================================================================================================================================================================================================================================================================================================================================================================================================================================================================================================================================================================================================================================================================================================================================================================================================================================================================================================================================================================================================================================================================================================================] - 4s 4ms/sample - loss: 18.9141 - dense_2_loss: 2.8008 - dense_2_1_loss: 7.5072 - dense_2_2_loss: 6.6109 - dense_2_3_loss: 1.9356 - dense_2_4_loss: 0.0091 - dense_2_accuracy: 0.5950 - dense_2_1_accuracy: 0.3020 - dense_2_2_accuracy: 0.4270 - dense_2_3_accuracy: 0.8680 - dense_2_4_accuracy: 0.9980\n"
     ]
    }
   ],
   "source": [
    "loss, dense_3_loss, dense_3_1_loss,dense_3_2_loss, dense_3_3_loss, dense_3_4_loss, dense_3_accuracy, dense_3_1_accuracy,dense_3_2_accuracy,dense_3_3_accuracy,dense_3_4_accuracy = model.evaluate([Xoh_test, np.zeros(shape=(1000, 64)),  np.zeros(shape=(1000, 64))],list(Yoh_test.swapaxes(0,1)), batch_size=100)"
   ]
  },
  {
   "cell_type": "code",
   "execution_count": null,
   "metadata": {},
   "outputs": [],
   "source": []
  },
  {
   "cell_type": "code",
   "execution_count": 37,
   "metadata": {},
   "outputs": [
    {
     "name": "stdout",
     "output_type": "stream",
     "text": [
      "Model Accuracy on Testing Data: 99.80000257492065%\n"
     ]
    }
   ],
   "source": [
    "print(\"Model Accuracy on Testing Data: {}%\".format(dense_3_4_accuracy*100))"
   ]
  },
  {
   "cell_type": "code",
   "execution_count": null,
   "metadata": {},
   "outputs": [],
   "source": []
  },
  {
   "cell_type": "code",
   "execution_count": null,
   "metadata": {},
   "outputs": [],
   "source": []
  },
  {
   "cell_type": "code",
   "execution_count": null,
   "metadata": {},
   "outputs": [],
   "source": []
  },
  {
   "cell_type": "code",
   "execution_count": null,
   "metadata": {},
   "outputs": [],
   "source": []
  },
  {
   "cell_type": "code",
   "execution_count": null,
   "metadata": {},
   "outputs": [],
   "source": []
  },
  {
   "cell_type": "code",
   "execution_count": 38,
   "metadata": {},
   "outputs": [
    {
     "data": {
      "text/plain": [
       "['how', 'are', 'you']"
      ]
     },
     "execution_count": 38,
     "metadata": {},
     "output_type": "execute_result"
    }
   ],
   "source": [
    "# manually testing on a random sentence\n",
    "a = map_to_dictionary_index(ger_tokenizer, ger_length, [ 'Wie geht es dir'])\n",
    "a = map_to_one_hot_encoding(a, ger_vocab_size)\n",
    "predict_sequence(model, eng_tokenizer,[a,np.zeros((1,64)),np.zeros((1,64))])"
   ]
  },
  {
   "cell_type": "code",
   "execution_count": null,
   "metadata": {},
   "outputs": [],
   "source": []
  },
  {
   "cell_type": "code",
   "execution_count": null,
   "metadata": {},
   "outputs": [],
   "source": []
  },
  {
   "cell_type": "code",
   "execution_count": 39,
   "metadata": {},
   "outputs": [
    {
     "data": {
      "text/plain": [
       "array(['no problem', 'ohne probleme'], dtype='<U42')"
      ]
     },
     "execution_count": 39,
     "metadata": {},
     "output_type": "execute_result"
    }
   ],
   "source": [
    "train[8]"
   ]
  },
  {
   "cell_type": "code",
   "execution_count": 40,
   "metadata": {},
   "outputs": [
    {
     "data": {
      "text/plain": [
       "['no', 'problem', '']"
      ]
     },
     "execution_count": 40,
     "metadata": {},
     "output_type": "execute_result"
    }
   ],
   "source": [
    "# manually testing on a sentence\n",
    "a = map_to_dictionary_index(ger_tokenizer, ger_length, [train[8][1]])\n",
    "a = map_to_one_hot_encoding(a, ger_vocab_size)\n",
    "predict_sequence(model, eng_tokenizer,[a,np.zeros((1,64)),np.zeros((1,64))])"
   ]
  },
  {
   "cell_type": "code",
   "execution_count": null,
   "metadata": {},
   "outputs": [],
   "source": []
  },
  {
   "cell_type": "code",
   "execution_count": null,
   "metadata": {},
   "outputs": [],
   "source": []
  },
  {
   "cell_type": "code",
   "execution_count": null,
   "metadata": {},
   "outputs": [],
   "source": []
  },
  {
   "cell_type": "code",
   "execution_count": null,
   "metadata": {},
   "outputs": [],
   "source": []
  },
  {
   "cell_type": "code",
   "execution_count": null,
   "metadata": {},
   "outputs": [],
   "source": []
  },
  {
   "cell_type": "code",
   "execution_count": null,
   "metadata": {},
   "outputs": [],
   "source": []
  },
  {
   "cell_type": "code",
   "execution_count": null,
   "metadata": {},
   "outputs": [],
   "source": []
  },
  {
   "cell_type": "code",
   "execution_count": 9,
   "metadata": {},
   "outputs": [],
   "source": []
  },
  {
   "cell_type": "code",
   "execution_count": 13,
   "metadata": {
    "collapsed": true
   },
   "outputs": [
    {
     "name": "stdout",
     "output_type": "stream",
     "text": [
      "Model: \"model\"\n",
      "__________________________________________________________________________________________________\n",
      "Layer (type)                    Output Shape         Param #     Connected to                     \n",
      "==================================================================================================\n",
      "input_1 (InputLayer)            [(None, 9, 3526)]    0                                            \n",
      "__________________________________________________________________________________________________\n",
      "s0 (InputLayer)                 [(None, 64)]         0                                            \n",
      "__________________________________________________________________________________________________\n",
      "bidirectional (Bidirectional)   (None, 9, 64)        911104      input_1[0][0]                    \n",
      "__________________________________________________________________________________________________\n",
      "repeat_vector (RepeatVector)    (None, 9, 64)        0           s0[0][0]                         \n",
      "                                                                 lstm[0][0]                       \n",
      "                                                                 lstm[1][0]                       \n",
      "                                                                 lstm[2][0]                       \n",
      "                                                                 lstm[3][0]                       \n",
      "__________________________________________________________________________________________________\n",
      "concatenate (Concatenate)       (None, 9, 128)       0           bidirectional[0][0]              \n",
      "                                                                 repeat_vector[0][0]              \n",
      "                                                                 bidirectional[0][0]              \n",
      "                                                                 repeat_vector[1][0]              \n",
      "                                                                 bidirectional[0][0]              \n",
      "                                                                 repeat_vector[2][0]              \n",
      "                                                                 bidirectional[0][0]              \n",
      "                                                                 repeat_vector[3][0]              \n",
      "                                                                 bidirectional[0][0]              \n",
      "                                                                 repeat_vector[4][0]              \n",
      "__________________________________________________________________________________________________\n",
      "dense (Dense)                   (None, 9, 10)        1290        concatenate[0][0]                \n",
      "                                                                 concatenate[1][0]                \n",
      "                                                                 concatenate[2][0]                \n",
      "                                                                 concatenate[3][0]                \n",
      "                                                                 concatenate[4][0]                \n",
      "__________________________________________________________________________________________________\n",
      "dense_1 (Dense)                 (None, 9, 1)         11          dense[0][0]                      \n",
      "                                                                 dense[1][0]                      \n",
      "                                                                 dense[2][0]                      \n",
      "                                                                 dense[3][0]                      \n",
      "                                                                 dense[4][0]                      \n",
      "__________________________________________________________________________________________________\n",
      "attention_weights (Activation)  (None, 9, 1)         0           dense_1[0][0]                    \n",
      "                                                                 dense_1[1][0]                    \n",
      "                                                                 dense_1[2][0]                    \n",
      "                                                                 dense_1[3][0]                    \n",
      "                                                                 dense_1[4][0]                    \n",
      "__________________________________________________________________________________________________\n",
      "dot (Dot)                       (None, 1, 64)        0           attention_weights[0][0]          \n",
      "                                                                 bidirectional[0][0]              \n",
      "                                                                 attention_weights[1][0]          \n",
      "                                                                 bidirectional[0][0]              \n",
      "                                                                 attention_weights[2][0]          \n",
      "                                                                 bidirectional[0][0]              \n",
      "                                                                 attention_weights[3][0]          \n",
      "                                                                 bidirectional[0][0]              \n",
      "                                                                 attention_weights[4][0]          \n",
      "                                                                 bidirectional[0][0]              \n",
      "__________________________________________________________________________________________________\n",
      "c0 (InputLayer)                 [(None, 64)]         0                                            \n",
      "__________________________________________________________________________________________________\n",
      "lstm (LSTM)                     [(None, 64), (None,  33024       dot[0][0]                        \n",
      "                                                                 s0[0][0]                         \n",
      "                                                                 c0[0][0]                         \n",
      "                                                                 dot[1][0]                        \n",
      "                                                                 lstm[0][0]                       \n",
      "                                                                 lstm[0][2]                       \n",
      "                                                                 dot[2][0]                        \n",
      "                                                                 lstm[1][0]                       \n",
      "                                                                 lstm[1][2]                       \n",
      "                                                                 dot[3][0]                        \n",
      "                                                                 lstm[2][0]                       \n",
      "                                                                 lstm[2][2]                       \n",
      "                                                                 dot[4][0]                        \n",
      "                                                                 lstm[3][0]                       \n",
      "                                                                 lstm[3][2]                       \n",
      "__________________________________________________________________________________________________\n",
      "dense_2 (Dense)                 (None, 2214)         143910      lstm[0][0]                       \n",
      "                                                                 lstm[1][0]                       \n",
      "                                                                 lstm[2][0]                       \n",
      "                                                                 lstm[3][0]                       \n",
      "                                                                 lstm[4][0]                       \n",
      "==================================================================================================\n",
      "Total params: 1,089,339\n",
      "Trainable params: 1,089,339\n",
      "Non-trainable params: 0\n",
      "__________________________________________________________________________________________________\n"
     ]
    }
   ],
   "source": []
  },
  {
   "cell_type": "code",
   "execution_count": 1,
   "metadata": {},
   "outputs": [],
   "source": []
  },
  {
   "cell_type": "code",
   "execution_count": null,
   "metadata": {},
   "outputs": [],
   "source": []
  }
 ],
 "metadata": {
  "kernelspec": {
   "display_name": "Python 3 (ipykernel)",
   "language": "python",
   "name": "python3"
  },
  "language_info": {
   "codemirror_mode": {
    "name": "ipython",
    "version": 3
   },
   "file_extension": ".py",
   "mimetype": "text/x-python",
   "name": "python",
   "nbconvert_exporter": "python",
   "pygments_lexer": "ipython3",
   "version": "3.7.1"
  }
 },
 "nbformat": 4,
 "nbformat_minor": 4
}
